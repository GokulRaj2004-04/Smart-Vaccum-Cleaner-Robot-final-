{
  "nbformat": 4,
  "nbformat_minor": 0,
  "metadata": {
    "colab": {
      "provenance": [],
      "gpuType": "T4",
      "authorship_tag": "ABX9TyN63vrey6bKVDx00XPDm5iL",
      "include_colab_link": true
    },
    "kernelspec": {
      "name": "python3",
      "display_name": "Python 3"
    },
    "language_info": {
      "name": "python"
    },
    "accelerator": "GPU"
  },
  "cells": [
    {
      "cell_type": "markdown",
      "metadata": {
        "id": "view-in-github",
        "colab_type": "text"
      },
      "source": [
        "<a href=\"https://colab.research.google.com/github/GokulRaj2004-04/Smart-Vaccum-Cleaner-Robot-final-/blob/main/chatbot.ipynb\" target=\"_parent\"><img src=\"https://colab.research.google.com/assets/colab-badge.svg\" alt=\"Open In Colab\"/></a>"
      ]
    },
    {
      "cell_type": "code",
      "execution_count": null,
      "metadata": {
        "colab": {
          "base_uri": "https://localhost:8080/"
        },
        "id": "4dGrdxBqnsbH",
        "outputId": "11d20994-1694-4a72-c6f7-0b850c9c3c7a"
      },
      "outputs": [
        {
          "output_type": "stream",
          "name": "stdout",
          "text": [
            "ðŸŸ¢ Groq Terminal ChatBot - Type 'exit' to quit\n",
            "ðŸ‘¤ You: hi\n",
            "ðŸ¤– GroqBot: Hi! It's nice to meet you. Is there something I can help you with or would you like to chat?\n",
            "ðŸ‘¤ You: where is nandha engineering college is located?\n",
            "ðŸ¤– GroqBot: Nandha Engineering College is located in Erode, Tamil Nadu, India. Specifically, the address is:\n",
            "\n",
            "Nandha Engineering College,\n",
            "SATHY Main Road,\n",
            "Covai Road,\n",
            "Erode - 638052,\n",
            "Tamil Nadu, India.\n",
            "\n",
            "Is there anything else you'd like to know about the college or its programs?\n"
          ]
        }
      ],
      "source": [
        "import requests\n",
        "import os\n",
        "\n",
        "# ðŸ”‘ Replace with your actual Groq API key or use environment variable\n",
        "\n",
        "GROQ_API_KEY = os.getenv(\"GROQ_API_KEY\", \"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\")\n",
        "\n",
        "# ðŸ¤– Choose the model: Mixtral is smart and fast!\n",
        "MODEL = \"llama3-8b-8192\"\n",
        "\n",
        "# ðŸ” Chat loop\n",
        "print(\"ðŸŸ¢ Groq Terminal ChatBot - Type 'exit' to quit\")\n",
        "\n",
        "chat_history = []\n",
        "\n",
        "while True:\n",
        "    user_input = input(\"ðŸ‘¤ You: \")\n",
        "    if user_input.lower() == \"exit\":\n",
        "        print(\"ðŸ‘‹ Exiting chat. Bye!\")\n",
        "        break\n",
        "\n",
        "    # Add user message to chat history\n",
        "    chat_history.append({\"role\": \"user\", \"content\": user_input})\n",
        "\n",
        "    response = requests.post(\n",
        "        \"https://api.groq.com/openai/v1/chat/completions\",\n",
        "        headers={\n",
        "            \"Authorization\": f\"Bearer {GROQ_API_KEY}\",\n",
        "            \"Content-Type\": \"application/json\"\n",
        "        },\n",
        "        json={\n",
        "            \"model\": MODEL,\n",
        "            \"messages\": chat_history\n",
        "        }\n",
        "    )\n",
        "\n",
        "    if response.status_code == 200:\n",
        "        reply = response.json()[\"choices\"][0][\"message\"][\"content\"]\n",
        "        print(\"ðŸ¤– GroqBot:\", reply)\n",
        "        chat_history.append({\"role\": \"assistant\", \"content\": reply})\n",
        "    else:\n",
        "        print(\"âŒ Error:\", response.status_code, response.text)"
      ]
    }
  ]
}